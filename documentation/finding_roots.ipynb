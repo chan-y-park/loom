{
 "cells": [
  {
   "cell_type": "code",
   "execution_count": 1,
   "metadata": {
    "collapsed": true
   },
   "outputs": [],
   "source": [
    "import pdb"
   ]
  },
  {
   "cell_type": "code",
   "execution_count": 2,
   "metadata": {
    "collapsed": false
   },
   "outputs": [
    {
     "name": "stdout",
     "output_type": "stream",
     "text": [
      "0.7.6\n",
      "0.20-git\n",
      "Mpmath settings:\n",
      "  mp.prec = 70                [default: 53]\n",
      "  mp.dps = 20                 [default: 15]\n",
      "  mp.trap_complex = False     [default: False]\n"
     ]
    }
   ],
   "source": [
    "import sympy\n",
    "#from sympy import mpmath\n",
    "import mpmath\n",
    "import copy\n",
    "from mpmath import mp\n",
    "from sympy import poly\n",
    "from sympy import symbols\n",
    "\n",
    "print sympy.__version__\n",
    "print mpmath.__version__\n",
    "\n",
    "precision = 20\n",
    "mp.dps = precision\n",
    "\n",
    "print mp"
   ]
  },
  {
   "cell_type": "code",
   "execution_count": 3,
   "metadata": {
    "collapsed": true
   },
   "outputs": [],
   "source": [
    "x, z = symbols('x, z')"
   ]
  },
  {
   "cell_type": "code",
   "execution_count": 4,
   "metadata": {
    "collapsed": false
   },
   "outputs": [],
   "source": [
    "f_sym_eq = sympy.sympify(\"x**4 + a*z*x**2 + b*x + c*z**2\")\n",
    "parameters = {'a': -10, 'b': 4, 'c': 9}"
   ]
  },
  {
   "cell_type": "code",
   "execution_count": 5,
   "metadata": {
    "collapsed": false
   },
   "outputs": [
    {
     "data": {
      "text/plain": [
       "a*x**2*z + b*x + c*z**2 + x**4"
      ]
     },
     "execution_count": 5,
     "metadata": {},
     "output_type": "execute_result"
    }
   ],
   "source": [
    "f_sym_eq"
   ]
  },
  {
   "cell_type": "code",
   "execution_count": 6,
   "metadata": {
    "collapsed": true
   },
   "outputs": [],
   "source": [
    "subs_dict = copy.deepcopy(parameters)"
   ]
  },
  {
   "cell_type": "code",
   "execution_count": 7,
   "metadata": {
    "collapsed": false
   },
   "outputs": [],
   "source": [
    "D_z_sym = sympy.poly(sympy.discriminant(f_sym_eq, x), z)"
   ]
  },
  {
   "cell_type": "code",
   "execution_count": 8,
   "metadata": {
    "collapsed": false
   },
   "outputs": [
    {
     "name": "stdout",
     "output_type": "stream",
     "text": [
      "16*a**4*c - 128*a**2*c**2 + 256*c**3 = (589824.00000000000000, 0)\n",
      "0 = (0, 0)\n",
      "0 = (0, 0)\n",
      "-4*a**3*b**2 + 144*a*b**2*c = (-143360.00000000000000, 0)\n",
      "0 = (0, 0)\n",
      "0 = (0, 0)\n",
      "-27*b**4 = (-6912.0000000000000000, 0)\n"
     ]
    }
   ],
   "source": [
    "cs = [c_sym.evalf(subs=subs_dict, n=precision).as_real_imag() for c_sym in D_z_sym.all_coeffs()]\n",
    "for i, c_sym in enumerate(D_z_sym.all_coeffs()):\n",
    "    print '{} = {}'.format(c_sym, cs[i])"
   ]
  },
  {
   "cell_type": "code",
   "execution_count": 9,
   "metadata": {
    "collapsed": false
   },
   "outputs": [],
   "source": [
    "D_z_coeffs = [mpmath.mpc(*c) for c in cs]"
   ]
  },
  {
   "cell_type": "code",
   "execution_count": 10,
   "metadata": {
    "collapsed": false
   },
   "outputs": [
    {
     "name": "stdout",
     "output_type": "stream",
     "text": [
      "estimated error of z roots: 1.6940658945086006781e-21\n"
     ]
    }
   ],
   "source": [
    "D_z_roots, z_roots_error = mpmath.polyroots(D_z_coeffs, extraprec=precision, error=True)\n",
    "print 'estimated error of z roots: {}'.format(z_roots_error)"
   ]
  },
  {
   "cell_type": "code",
   "execution_count": 11,
   "metadata": {
    "collapsed": false
   },
   "outputs": [
    {
     "data": {
      "text/plain": [
       "[mpf('-0.34544520170447289578646'),\n",
       " mpf('0.65752852546012481142649'),\n",
       " mpc(real='0.17272260085223644789323', imag='0.29916432029151299303201'),\n",
       " mpc(real='0.17272260085223644789323', imag='-0.29916432029151299303201'),\n",
       " mpc(real='-0.32876426273006240571324', imag='0.56943640676139113696591'),\n",
       " mpc(real='-0.32876426273006240571324', imag='-0.56943640676139113696591')]"
      ]
     },
     "execution_count": 11,
     "metadata": {},
     "output_type": "execute_result"
    }
   ],
   "source": [
    "D_z_roots"
   ]
  },
  {
   "cell_type": "code",
   "execution_count": 12,
   "metadata": {
    "collapsed": false
   },
   "outputs": [
    {
     "name": "stdout",
     "output_type": "stream",
     "text": [
      "D(z_0) = 0.0\n",
      "D(z_1) = 6.2450045135165055399e-17\n",
      "D(z_2) = 1.4168545436079111663e-17\n",
      "D(z_3) = 1.4168545436079111663e-17\n",
      "D(z_4) = 9.6155545410899194482e-17\n",
      "D(z_5) = 9.6155545410899194482e-17\n"
     ]
    }
   ],
   "source": [
    "for i, z_i in enumerate(D_z_roots):\n",
    "    print 'D(z_{}) = {}'.format(i, abs(mpmath.polyval(D_z_coeffs, z_i)))"
   ]
  },
  {
   "cell_type": "code",
   "execution_count": 13,
   "metadata": {
    "collapsed": false
   },
   "outputs": [
    {
     "name": "stdout",
     "output_type": "stream",
     "text": [
      "z_0 = -0.34544520170447289579\n",
      "\n",
      "estimated error of x roots: 1.6940658945086006781e-21\n",
      "\n",
      "\tx_0 = (-0.50458391000063610164 + 3.7940770431507130822e-9j)\n",
      "\tf(z_0, x_0) = 1.6940658945086007338e-21\n",
      "\n",
      "\tx_1 = (-0.50458391000063610164 - 3.7940770431507424797e-9j)\n",
      "\tf(z_0, x_1) = 1.6940658945086007053e-21\n",
      "\n",
      "\tx_2 = (0.50458391000063610164 - 1.9908947389321689329j)\n",
      "\tf(z_0, x_2) = 1.4382248349311811912e-20\n",
      "\n",
      "\tx_3 = (0.50458391000063610164 + 1.9908947389321689329j)\n",
      "\tf(z_0, x_3) = 1.4382248349311811912e-20\n",
      "\n",
      "z_1 = 0.65752852546012481143\n",
      "\n",
      "estimated error of x roots: 1.6940658945086006781e-21\n",
      "\n",
      "\tx_0 = -2.741641539544884606\n",
      "\tf(z_1, x_0) = 5.0821976835258020344e-20\n",
      "\n",
      "\tx_1 = -0.53028923693435766463\n",
      "\tf(z_1, x_1) = 0.0\n",
      "\n",
      "\tx_2 = 1.6359653797268437434\n",
      "\tf(z_1, x_2) = 0.0\n",
      "\n",
      "\tx_3 = 1.6359653967523985272\n",
      "\tf(z_1, x_3) = 3.3881317890172013563e-21\n",
      "\n",
      "z_2 = (0.17272260085223644789 + 0.29916432029151299303j)\n",
      "\n",
      "estimated error of x roots: 1.6940658945086006781e-21\n",
      "\n",
      "\tx_0 = (0.25229196021330400525 - 0.43698247993178596393j)\n",
      "\tf(z_2, x_0) = 0.0\n",
      "\n",
      "\tx_1 = (0.25229194978733207432 - 0.43698248887107748277j)\n",
      "\tf(z_2, x_1) = 8.4703294725430033907e-22\n",
      "\n",
      "\tx_2 = (-1.9764573751763642213 - 0.55846488506465277231j)\n",
      "\tf(z_2, x_2) = 8.4703294725430033907e-21\n",
      "\n",
      "\tx_3 = (1.4718734651757281417 + 1.432429853867516219j)\n",
      "\tf(z_2, x_3) = 1.8499478807557366542e-20\n",
      "\n",
      "z_3 = (0.17272260085223644789 - 0.29916432029151299303j)\n",
      "\n",
      "estimated error of x roots: 1.6940658945086006781e-21\n",
      "\n",
      "\tx_0 = (0.25229196021330400525 + 0.43698247993178596393j)\n",
      "\tf(z_3, x_0) = 0.0\n",
      "\n",
      "\tx_1 = (0.25229194978733207432 + 0.43698248887107748277j)\n",
      "\tf(z_3, x_1) = 8.4703294725430033907e-22\n",
      "\n",
      "\tx_2 = (-1.9764573751763642213 + 0.55846488506465277231j)\n",
      "\tf(z_3, x_2) = 8.4703294725430033907e-21\n",
      "\n",
      "\tx_3 = (1.4718734651757281417 - 1.432429853867516219j)\n",
      "\tf(z_3, x_3) = 1.8499478807557366542e-20\n",
      "\n",
      "z_4 = (-0.32876426273006240571 + 0.56943640676139113697j)\n",
      "\n",
      "estimated error of x roots: 1.6940658945086006781e-21\n",
      "\n",
      "\tx_0 = (0.2651446184671788335 + 0.45924395053861895315j)\n",
      "\tf(z_4, x_0) = 3.7880464984852188066e-21\n",
      "\n",
      "\tx_1 = (-0.81798268973919325688 - 1.4167875784828879638j)\n",
      "\tf(z_4, x_1) = 4.7915419271355440045e-21\n",
      "\n",
      "\tx_2 = (-0.81798269850042788162 - 1.4167875933722796972j)\n",
      "\tf(z_4, x_2) = 3.3881317890172013563e-21\n",
      "\n",
      "\tx_3 = (1.370820769772442305 + 2.3743312213165487078j)\n",
      "\tf(z_4, x_3) = 5.152300273486526386e-20\n",
      "\n",
      "z_5 = (-0.32876426273006240571 - 0.56943640676139113697j)\n",
      "\n",
      "estimated error of x roots: 1.6940658945086006781e-21\n",
      "\n",
      "\tx_0 = (0.2651446184671788335 - 0.45924395053861895315j)\n",
      "\tf(z_5, x_0) = 3.7880464984852188066e-21\n",
      "\n",
      "\tx_1 = (-0.81798268973919325688 + 1.4167875784828879638j)\n",
      "\tf(z_5, x_1) = 4.7915419271355440045e-21\n",
      "\n",
      "\tx_2 = (-0.81798269850042788162 + 1.4167875933722796972j)\n",
      "\tf(z_5, x_2) = 3.3881317890172013563e-21\n",
      "\n",
      "\tx_3 = (1.370820769772442305 - 2.3743312213165487078j)\n",
      "\tf(z_5, x_3) = 5.152300273486526386e-20\n",
      "\n"
     ]
    }
   ],
   "source": [
    "for i, z_i in enumerate(D_z_roots):\n",
    "    print 'z_{} = {}\\n'.format(i, z_i)\n",
    "    subs_dict[z] = z_i\n",
    "    \n",
    "    f_x = sympy.poly(f_sym_eq.evalf(subs=subs_dict, n=precision), x)\n",
    "    #print f_x\n",
    "    f_x_cs = [c.evalf(subs=subs_dict, n=precision) for c in sympy.poly(f_sym_eq, x).all_coeffs()]\n",
    "    f_x_coeffs =  [mpmath.mpc(*c.as_real_imag()) for c in f_x_cs]\n",
    "    #print f_x_coeffs\n",
    "    f_x_roots, x_roots_error = mpmath.polyroots(f_x_coeffs, maxsteps=50, extraprec=30, error=True)\n",
    "    print 'estimated error of x roots: {}\\n'.format(x_roots_error)\n",
    "    for j, x_j in enumerate(f_x_roots):\n",
    "        print '\\tx_{} = {}'.format(j, x_j)\n",
    "        print '\\tf(z_{}, x_{}) = {}\\n'.format(i, j, abs(mpmath.polyval(f_x_coeffs, x_j)))\n",
    "    "
   ]
  },
  {
   "cell_type": "code",
   "execution_count": null,
   "metadata": {
    "collapsed": true
   },
   "outputs": [],
   "source": []
  }
 ],
 "metadata": {
  "kernelspec": {
   "display_name": "Python 2",
   "language": "python",
   "name": "python2"
  },
  "language_info": {
   "codemirror_mode": {
    "name": "ipython",
    "version": 2
   },
   "file_extension": ".py",
   "mimetype": "text/x-python",
   "name": "python",
   "nbconvert_exporter": "python",
   "pygments_lexer": "ipython2",
   "version": "2.7.10"
  }
 },
 "nbformat": 4,
 "nbformat_minor": 0
}
