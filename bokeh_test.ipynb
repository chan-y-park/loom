{
 "cells": [
  {
   "cell_type": "code",
   "execution_count": null,
   "metadata": {
    "collapsed": true
   },
   "outputs": [],
   "source": [
    "import pdb"
   ]
  },
  {
   "cell_type": "code",
   "execution_count": null,
   "metadata": {
    "collapsed": true
   },
   "outputs": [],
   "source": [
    "import loom"
   ]
  },
  {
   "cell_type": "code",
   "execution_count": null,
   "metadata": {
    "collapsed": false
   },
   "outputs": [],
   "source": [
    "c, d = loom.load()"
   ]
  },
  {
   "cell_type": "code",
   "execution_count": null,
   "metadata": {
    "collapsed": false
   },
   "outputs": [],
   "source": [
    "from bokeh.plotting import figure, output_notebook, show, ColumnDataSource\n",
    "\n",
    "from bokeh.palettes import Spectral10\n",
    "\n",
    "from bokeh.models import HoverTool, BoxZoomTool, PanTool, WheelZoomTool, Callback\n",
    "\n",
    "output_notebook()"
   ]
  },
  {
   "cell_type": "code",
   "execution_count": null,
   "metadata": {
    "collapsed": false
   },
   "outputs": [],
   "source": [
    "spectral_network = d[0]\n",
    "walls = []\n",
    "labels = {'branch_points': [], 'joints': [], 'walls': []}\n",
    "for i, s_wall in enumerate(spectral_network.s_walls):\n",
    "    segments = []\n",
    "    seg_labels = []\n",
    "    split_at = []\n",
    "\n",
    "    z_segs = [s_wall.z]\n",
    "\n",
    "    for z_seg in z_segs:\n",
    "        segments.append([z_seg.real, z_seg.imag])\n",
    "        seg_labels.append(s_wall.label)\n",
    "\n",
    "    walls.append(segments)\n",
    "    labels['walls'].append(seg_labels)"
   ]
  },
  {
   "cell_type": "code",
   "execution_count": null,
   "metadata": {
    "collapsed": false
   },
   "outputs": [],
   "source": [
    "hover = HoverTool(\n",
    "    always_active=False,\n",
    "    line_policy=\"nearest\",\n",
    "    point_policy=\"follow_mouse\",\n",
    "    tooltips=[\n",
    "        (\"index\", \"$index\"),\n",
    "        (\"(x,y)\", \"($x, $y)\"),\n",
    "        (\"label\", \"@label\"),\n",
    "    ]\n",
    ")\n",
    "\n",
    "p = figure(tools=[BoxZoomTool(), PanTool(), WheelZoomTool(), hover])\n",
    "\n",
    "for i, wall in enumerate(walls):\n",
    "    for j, segment in enumerate(wall):\n",
    "        seg_xs, seg_ys = segment\n",
    "        source = ColumnDataSource(\n",
    "            data=dict(\n",
    "                x=seg_xs,\n",
    "                y=seg_ys,\n",
    "                label=[labels['walls'][i][j] for x in seg_xs],\n",
    "            )\n",
    "        )\n",
    "        p.line('x', 'y', line_color=Spectral10[(i+j) % 10], source=source)\n",
    "show(p)"
   ]
  },
  {
   "cell_type": "code",
   "execution_count": null,
   "metadata": {
    "collapsed": false
   },
   "outputs": [],
   "source": [
    "plots = []\n",
    "\n",
    "for sn in d:    \n",
    "    p = figure()\n",
    "    #for i, s_wall in enumerate(sn.s_walls):\n",
    "    for s_wall in sn.s_walls:\n",
    "        p.line(s_wall.z.real, s_wall.z.imag, \n",
    "               #line_color=Spectral10[i % 10]\n",
    "              )\n",
    "        text_x = s_wall.z.real[-1]\n",
    "        text_y = s_wall.z.imag[-1]\n",
    "        text_str = s_wall.label\n",
    "        p.text([text_x], [text_y], [text_str])\n",
    "    plots.append(p)\n",
    "    \n",
    "#show(plots[0])"
   ]
  },
  {
   "cell_type": "code",
   "execution_count": null,
   "metadata": {
    "collapsed": true
   },
   "outputs": [],
   "source": [
    "def show_plot(plot_index):\n",
    "    show(plots[plot_index])"
   ]
  },
  {
   "cell_type": "code",
   "execution_count": null,
   "metadata": {
    "collapsed": false
   },
   "outputs": [],
   "source": [
    "from IPython.html.widgets import IntSlider, interactive\n",
    "from IPython.display import display\n",
    "plot_slider = interactive(show_plot, plot_index=IntSlider(min=0, max=len(d)-1, step=1, value=0))\n",
    "display(plot_slider)"
   ]
  },
  {
   "cell_type": "code",
   "execution_count": null,
   "metadata": {
    "collapsed": true
   },
   "outputs": [],
   "source": []
  }
 ],
 "metadata": {
  "kernelspec": {
   "display_name": "Python 2",
   "language": "python",
   "name": "python2"
  },
  "language_info": {
   "codemirror_mode": {
    "name": "ipython",
    "version": 2
   },
   "file_extension": ".py",
   "mimetype": "text/x-python",
   "name": "python",
   "nbconvert_exporter": "python",
   "pygments_lexer": "ipython2",
   "version": "2.7.6"
  }
 },
 "nbformat": 4,
 "nbformat_minor": 0
}
