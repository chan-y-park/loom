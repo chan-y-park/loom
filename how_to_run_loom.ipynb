{
 "cells": [
  {
   "cell_type": "code",
   "execution_count": null,
   "metadata": {
    "collapsed": false,
    "scrolled": true
   },
   "outputs": [],
   "source": [
    "#%matplotlib tk\n",
    "import loom\n",
    "import logging\n",
    "loom.set_logging(\n",
    "    logger_name='loom',\n",
    "    logging_level=logging.INFO,\n",
    "    logging_stream=None,\n",
    "    logging_file_name='logs/loom_test.log'\n",
    ")\n",
    "\n",
    "from bokeh.plotting import show\n",
    "from bokeh.io import save\n",
    "from bokeh.io import output_notebook\n",
    "\n",
    "from loom.bokeh_plot import get_spectral_network_bokeh_plot\n",
    "\n",
    "output_notebook()"
   ]
  },
  {
   "cell_type": "markdown",
   "metadata": {},
   "source": [
    "Load a configuration file."
   ]
  },
  {
   "cell_type": "code",
   "execution_count": null,
   "metadata": {
    "collapsed": false
   },
   "outputs": [],
   "source": [
    "d = loom.api.SpectralNetworkData(config_file_path='config/default.ini')"
   ]
  },
  {
   "cell_type": "markdown",
   "metadata": {},
   "source": [
    "Shows the loaded configuration."
   ]
  },
  {
   "cell_type": "code",
   "execution_count": null,
   "metadata": {
    "collapsed": false
   },
   "outputs": [],
   "source": [
    "d.config.data"
   ]
  },
  {
   "cell_type": "markdown",
   "metadata": {},
   "source": [
    "How to change the current configuration."
   ]
  },
  {
   "cell_type": "code",
   "execution_count": null,
   "metadata": {
    "collapsed": true
   },
   "outputs": [],
   "source": [
    "d.config['num_of_steps'] = 1000\n",
    "d.config['num_of_iterations'] = 3\n",
    "d.config['phase'] = 1.0\n",
    "d.config['mass_limit'] = 3.0\n",
    "d.config['ramification_point_finding_method'] = 'from_branch_points'\n",
    "d.config['branch_points'] = '[-sqrt(1/3*(-3+(2*I)/sqrt(3))), sqrt(1/3*(-3+(2*I)/sqrt(3))), -sqrt(1/3*(-3-(2*I)/sqrt(3))), sqrt(1/3*(-3-(2*I)/sqrt(3)))]'"
   ]
  },
  {
   "cell_type": "markdown",
   "metadata": {},
   "source": [
    "Generate spectral networks according to the configuration."
   ]
  },
  {
   "cell_type": "code",
   "execution_count": null,
   "metadata": {
    "collapsed": false,
    "scrolled": false
   },
   "outputs": [],
   "source": [
    "d.generate()"
   ]
  },
  {
   "cell_type": "markdown",
   "metadata": {},
   "source": [
    "Displays the bokeh plot of the spectral network."
   ]
  },
  {
   "cell_type": "code",
   "execution_count": null,
   "metadata": {
    "collapsed": false,
    "scrolled": true
   },
   "outputs": [],
   "source": [
    "plot_range = [[-3, 3], [-3, 3]]\n",
    "\n",
    "f = get_spectral_network_bokeh_plot(d, plot_range=plot_range, notebook=True)\n",
    "\n",
    "show(f)"
   ]
  },
  {
   "cell_type": "markdown",
   "metadata": {},
   "source": [
    "Save spectral network data in files."
   ]
  },
  {
   "cell_type": "code",
   "execution_count": null,
   "metadata": {
    "collapsed": false
   },
   "outputs": [],
   "source": [
    "d.save(data_dir='data/example')"
   ]
  },
  {
   "cell_type": "markdown",
   "metadata": {},
   "source": [
    "Load spectral networks from saved data."
   ]
  },
  {
   "cell_type": "code",
   "execution_count": null,
   "metadata": {
    "collapsed": false
   },
   "outputs": [],
   "source": [
    "d = loom.api.SpectralNetworkData(data_dir='data/example')"
   ]
  },
  {
   "cell_type": "markdown",
   "metadata": {},
   "source": [
    "Extend spectral networks by additional steps, iterations, a new mass limit, or additional phases. "
   ]
  },
  {
   "cell_type": "code",
   "execution_count": null,
   "metadata": {
    "collapsed": false,
    "scrolled": true
   },
   "outputs": [],
   "source": [
    "d.extend(additional_n_steps=1000, new_mass_limit=10, additional_iterations=2, additional_phases=[1.0, 3.0, 3])"
   ]
  },
  {
   "cell_type": "markdown",
   "metadata": {},
   "source": [
    "Use the slider bar to change between spectral networks of different phases."
   ]
  },
  {
   "cell_type": "code",
   "execution_count": null,
   "metadata": {
    "collapsed": false
   },
   "outputs": [],
   "source": [
    "plot_range = [[-5, 5], [-5, 5]]\n",
    "f = get_spectral_network_bokeh_plot(d, plot_range=plot_range, notebook=True)\n",
    "show(f)"
   ]
  },
  {
   "cell_type": "markdown",
   "metadata": {},
   "source": [
    "Save the bokeh plot to an html file. (Ignore the warning message.)"
   ]
  },
  {
   "cell_type": "code",
   "execution_count": null,
   "metadata": {
    "collapsed": false
   },
   "outputs": [],
   "source": [
    "from loom.bokeh_plot import get_spectral_network_bokeh_plot\n",
    "\n",
    "plot_range = [[-5, 5], [-5, 5]]\n",
    "p = get_spectral_network_bokeh_plot(d, plot_range=plot_range, notebook=True)\n",
    "save(\n",
    "    obj=p,\n",
    "    filename='data/example.html',\n",
    "    title='Spectral networks of an Argyres-Douglas theory',\n",
    ")"
   ]
  },
  {
   "cell_type": "markdown",
   "metadata": {},
   "source": [
    "Bokeh exports an plot only to a PNG format. To get a PDF plot of better quality, use matplotlib."
   ]
  },
  {
   "cell_type": "code",
   "execution_count": null,
   "metadata": {
    "collapsed": false,
    "scrolled": true
   },
   "outputs": [],
   "source": [
    "plot_range = [[-5, 5], [-5, 5]]\n",
    "p = loom.api.make_spectral_network_plot(d, plot_range=plot_range)\n",
    "p.figure"
   ]
  },
  {
   "cell_type": "code",
   "execution_count": null,
   "metadata": {
    "collapsed": true
   },
   "outputs": [],
   "source": [
    "p.figure.savefig('data/example.pdf', bbox_inches='tight')"
   ]
  },
  {
   "cell_type": "code",
   "execution_count": null,
   "metadata": {
    "collapsed": true
   },
   "outputs": [],
   "source": []
  }
 ],
 "metadata": {
  "kernelspec": {
   "display_name": "Python 2",
   "language": "python",
   "name": "python2"
  },
  "language_info": {
   "codemirror_mode": {
    "name": "ipython",
    "version": 2
   },
   "file_extension": ".py",
   "mimetype": "text/x-python",
   "name": "python",
   "nbconvert_exporter": "python",
   "pygments_lexer": "ipython2",
   "version": "2.7.6"
  }
 },
 "nbformat": 4,
 "nbformat_minor": 0
}
